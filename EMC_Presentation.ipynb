{
 "cells": [
  {
   "cell_type": "markdown",
   "metadata": {},
   "source": [
    "# nextstep demonstration"
   ]
  },
  {
   "cell_type": "code",
   "execution_count": 1,
   "metadata": {},
   "outputs": [],
   "source": [
    "import pandas as pd\n",
    "import warnings\n",
    "warnings.filterwarnings(\"ignore\")"
   ]
  },
  {
   "cell_type": "markdown",
   "metadata": {},
   "source": [
    "## 1. oil price"
   ]
  },
  {
   "cell_type": "code",
   "execution_count": 3,
   "metadata": {},
   "outputs": [],
   "source": [
    "from getData.oil import oil_price\n",
    "oil_price()"
   ]
  },
  {
   "cell_type": "code",
   "execution_count": null,
   "metadata": {},
   "outputs": [],
   "source": []
  },
  {
   "cell_type": "markdown",
   "metadata": {},
   "source": [
    "## 2. weather data"
   ]
  },
  {
   "cell_type": "code",
   "execution_count": null,
   "metadata": {},
   "outputs": [],
   "source": [
    "from getData.weather import get_weather_data\n",
    "user_config = {'frequency' : 1,\n",
    "               'start_date' : '01-Jan-2010',\n",
    "               'end_date' : '31-Jan-2010',\n",
    "               'api_key' : '2c9e967a17ba475087893244201503',\n",
    "               'location_list' : ['singapore'],\n",
    "               'location_label' : False}\n",
    "get_weather_data(user_config)"
   ]
  },
  {
   "cell_type": "code",
   "execution_count": null,
   "metadata": {},
   "outputs": [],
   "source": []
  },
  {
   "cell_type": "markdown",
   "metadata": {},
   "source": [
    "## 3. feature selection"
   ]
  },
  {
   "cell_type": "code",
   "execution_count": null,
   "metadata": {},
   "outputs": [],
   "source": [
    "import nextstep.feature_selection as fs"
   ]
  },
  {
   "cell_type": "code",
   "execution_count": null,
   "metadata": {},
   "outputs": [],
   "source": [
    "df = pd.read_csv('feature_mart_demo.csv')\n",
    "df.head(3)"
   ]
  },
  {
   "cell_type": "code",
   "execution_count": null,
   "metadata": {},
   "outputs": [],
   "source": [
    "y = df['USEP']\n",
    "X = df.drop(columns=['TRADING_DATE','USEP'])"
   ]
  },
  {
   "cell_type": "code",
   "execution_count": null,
   "metadata": {},
   "outputs": [],
   "source": [
    "# majority voting\n",
    "fs.majority_voting(X, y, num_features=15)"
   ]
  },
  {
   "cell_type": "code",
   "execution_count": null,
   "metadata": {},
   "outputs": [],
   "source": [
    "# tentative\n",
    "# fs.get_features_from_SelectKBest(f_regression, X, y, num_features=15)"
   ]
  },
  {
   "cell_type": "markdown",
   "metadata": {},
   "source": [
    "## 4. model"
   ]
  },
  {
   "cell_type": "code",
   "execution_count": 11,
   "metadata": {},
   "outputs": [
    {
     "name": "stdout",
     "output_type": "stream",
     "text": [
      "Building random forest model.\n",
      "Evaluating random forest performance.\n",
      "MAE : 4.483452044127191\n",
      "MSE : 238.17569035992207\n",
      "RMSE : 15.432941727354576\n"
     ]
    }
   ],
   "source": [
    "from nextstep.model.random_forest import random_forest\n",
    "\n",
    "random_forest_shell = random_forest({\n",
    "                                'label_column' : 'USEP',\n",
    "                                'train_size' : 0.7,\n",
    "                                'seed' : 33,\n",
    "                                'n_estimators' : 25,\n",
    "                                'bootstrap' : True,\n",
    "                                'criterion' : 'mse',\n",
    "                                'max_features' : 'sqrt'})\n",
    "\n",
    "rf = random_forest_shell.build_model(df.drop(columns=['TRADING_DATE']))"
   ]
  },
  {
   "cell_type": "markdown",
   "metadata": {},
   "source": [
    "## 5. hyper-paramter tuning"
   ]
  },
  {
   "cell_type": "code",
   "execution_count": null,
   "metadata": {},
   "outputs": [],
   "source": []
  }
 ],
 "metadata": {
  "kernelspec": {
   "display_name": "Python 3",
   "language": "python",
   "name": "python3"
  },
  "language_info": {
   "codemirror_mode": {
    "name": "ipython",
    "version": 3
   },
   "file_extension": ".py",
   "mimetype": "text/x-python",
   "name": "python",
   "nbconvert_exporter": "python",
   "pygments_lexer": "ipython3",
   "version": "3.7.3"
  }
 },
 "nbformat": 4,
 "nbformat_minor": 4
}
